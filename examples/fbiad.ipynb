{
 "cells": [
  {
   "cell_type": "code",
   "execution_count": 3,
   "id": "389c738f",
   "metadata": {},
   "outputs": [
    {
     "name": "stderr",
     "output_type": "stream",
     "text": [
      "Loading required package: harbinger\n",
      "\n",
      "Registered S3 method overwritten by 'quantmod':\n",
      "  method            from\n",
      "  as.zoo.data.frame zoo \n",
      "\n",
      "Warning message:\n",
      "“replacing previous import ‘ggplot2::margin’ by ‘randomForest::margin’ when loading ‘harbinger’”\n",
      "\n",
      "Attaching package: ‘harbinger’\n",
      "\n",
      "\n",
      "The following object is masked from ‘package:stats’:\n",
      "\n",
      "    optimize\n",
      "\n",
      "\n",
      "The following object is masked from ‘package:utils’:\n",
      "\n",
      "    head\n",
      "\n",
      "\n",
      "The following object is masked from ‘package:base’:\n",
      "\n",
      "    transform\n",
      "\n",
      "\n"
     ]
    }
   ],
   "source": [
    "# DAL Library\n",
    "# version 0.1.0\n",
    "\n",
    "source(\"load_harbinger.R\")\n",
    "\n",
    "#loading Harbinger\n",
    "load_harbinger() # see ../load_harbinger.R "
   ]
  },
  {
   "cell_type": "code",
   "execution_count": 8,
   "id": "3c2eb992",
   "metadata": {},
   "outputs": [
    {
     "data": {
      "text/html": [
       "<table class=\"dataframe\">\n",
       "<caption>A data.frame: 6 × 2</caption>\n",
       "<thead>\n",
       "\t<tr><th></th><th scope=col>serie</th><th scope=col>event</th></tr>\n",
       "\t<tr><th></th><th scope=col>&lt;dbl&gt;</th><th scope=col>&lt;lgl&gt;</th></tr>\n",
       "</thead>\n",
       "<tbody>\n",
       "\t<tr><th scope=row>1</th><td>1.0000000</td><td>FALSE</td></tr>\n",
       "\t<tr><th scope=row>2</th><td>0.9689124</td><td>FALSE</td></tr>\n",
       "\t<tr><th scope=row>3</th><td>0.8775826</td><td>FALSE</td></tr>\n",
       "\t<tr><th scope=row>4</th><td>0.7316889</td><td>FALSE</td></tr>\n",
       "\t<tr><th scope=row>5</th><td>0.5403023</td><td>FALSE</td></tr>\n",
       "\t<tr><th scope=row>6</th><td>0.3153224</td><td>FALSE</td></tr>\n",
       "</tbody>\n",
       "</table>\n"
      ],
      "text/latex": [
       "A data.frame: 6 × 2\n",
       "\\begin{tabular}{r|ll}\n",
       "  & serie & event\\\\\n",
       "  & <dbl> & <lgl>\\\\\n",
       "\\hline\n",
       "\t1 & 1.0000000 & FALSE\\\\\n",
       "\t2 & 0.9689124 & FALSE\\\\\n",
       "\t3 & 0.8775826 & FALSE\\\\\n",
       "\t4 & 0.7316889 & FALSE\\\\\n",
       "\t5 & 0.5403023 & FALSE\\\\\n",
       "\t6 & 0.3153224 & FALSE\\\\\n",
       "\\end{tabular}\n"
      ],
      "text/markdown": [
       "\n",
       "A data.frame: 6 × 2\n",
       "\n",
       "| <!--/--> | serie &lt;dbl&gt; | event &lt;lgl&gt; |\n",
       "|---|---|---|\n",
       "| 1 | 1.0000000 | FALSE |\n",
       "| 2 | 0.9689124 | FALSE |\n",
       "| 3 | 0.8775826 | FALSE |\n",
       "| 4 | 0.7316889 | FALSE |\n",
       "| 5 | 0.5403023 | FALSE |\n",
       "| 6 | 0.3153224 | FALSE |\n",
       "\n"
      ],
      "text/plain": [
       "  serie     event\n",
       "1 1.0000000 FALSE\n",
       "2 0.9689124 FALSE\n",
       "3 0.8775826 FALSE\n",
       "4 0.7316889 FALSE\n",
       "5 0.5403023 FALSE\n",
       "6 0.3153224 FALSE"
      ]
     },
     "metadata": {},
     "output_type": "display_data"
    }
   ],
   "source": [
    "data(har_examples)\n",
    "dataset <- har_examples[[1]]\n",
    "head(dataset)"
   ]
  },
  {
   "cell_type": "code",
   "execution_count": null,
   "id": "6dce463b",
   "metadata": {},
   "outputs": [],
   "source": [
    "plot(dataset$serie)"
   ]
  }
 ],
 "metadata": {
  "kernelspec": {
   "display_name": "R",
   "language": "R",
   "name": "ir"
  },
  "language_info": {
   "codemirror_mode": "r",
   "file_extension": ".r",
   "mimetype": "text/x-r-source",
   "name": "R",
   "pygments_lexer": "r",
   "version": "4.2.2"
  }
 },
 "nbformat": 4,
 "nbformat_minor": 5
}
