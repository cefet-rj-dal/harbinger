{
 "cells": [
  {
   "cell_type": "code",
   "execution_count": 1,
   "id": "61c8d39a",
   "metadata": {},
   "outputs": [
    {
     "ename": "ERROR",
     "evalue": "Error in internal_load_harbinger(internal_load_harbinger()): unused argument (internal_load_harbinger())\n",
     "output_type": "error",
     "traceback": [
      "Error in internal_load_harbinger(internal_load_harbinger()): unused argument (internal_load_harbinger())\nTraceback:\n",
      "1. load_harbinger()",
      "2. suppressPackageStartupMessages(internal_load_harbinger(internal_load_harbinger()))",
      "3. withCallingHandlers(expr, packageStartupMessage = function(c) tryInvokeRestart(\"muffleMessage\"))"
     ]
    }
   ],
   "source": [
    "# Harbinger Package\n",
    "# version 1.0.50\n",
    "\n",
    "source(\"https://raw.githubusercontent.com/cefet-rj-dal/harbinger/master/examples/jupyter_harbinger.R\")\n",
    "\n",
    "#loading Harbinger\n",
    "load_harbinger() "
   ]
  },
  {
   "cell_type": "code",
   "execution_count": null,
   "id": "53aaa402",
   "metadata": {},
   "outputs": [],
   "source": [
    "#loading the example database\n",
    "data(har_examples)"
   ]
  },
  {
   "cell_type": "code",
   "execution_count": null,
   "id": "eddb719b",
   "metadata": {},
   "outputs": [],
   "source": [
    "#Using the time series 1 \n",
    "dataset <- har_examples[[1]]\n",
    "head(dataset)"
   ]
  },
  {
   "cell_type": "code",
   "execution_count": null,
   "id": "c21368d2",
   "metadata": {},
   "outputs": [],
   "source": [
    "#ploting serie #1\n",
    "\n",
    "plot(x = 1:length(dataset$serie), y = dataset$serie)\n",
    "lines(x = 1:length(dataset$serie), y = dataset$serie)"
   ]
  },
  {
   "cell_type": "code",
   "execution_count": null,
   "id": "844bb9cc",
   "metadata": {},
   "outputs": [],
   "source": [
    "# establishing fbiad method \n",
    "  model <- fbiad()"
   ]
  },
  {
   "cell_type": "code",
   "execution_count": null,
   "id": "7ecf2d9a",
   "metadata": {},
   "outputs": [],
   "source": [
    "# fitting the model\n",
    "  model <- fit(model, dataset$serie)"
   ]
  },
  {
   "cell_type": "code",
   "execution_count": null,
   "id": "eb3dc1ed",
   "metadata": {},
   "outputs": [],
   "source": [
    "# making detections using fbiad\n",
    "  detection <- detect(model, dataset$serie)"
   ]
  },
  {
   "cell_type": "code",
   "execution_count": null,
   "id": "bed4197f",
   "metadata": {},
   "outputs": [],
   "source": [
    "# filtering detected events\n",
    "  print(detection |> dplyr::filter(event==TRUE))"
   ]
  },
  {
   "cell_type": "code",
   "execution_count": null,
   "id": "14d7f796",
   "metadata": {},
   "outputs": [],
   "source": [
    "# evaluating the detections\n",
    "  evaluation <- evaluate(model, detection$event, dataset$event)\n",
    "  print(evaluation$confMatrix)"
   ]
  },
  {
   "cell_type": "code",
   "execution_count": null,
   "id": "438c6296",
   "metadata": {},
   "outputs": [],
   "source": [
    "# ploting the results\n",
    "  grf <- plot.harbinger(model, dataset$serie, detection, dataset$event)\n",
    "  plot(grf)"
   ]
  },
  {
   "cell_type": "code",
   "execution_count": null,
   "id": "f1e9649d",
   "metadata": {},
   "outputs": [],
   "source": []
  }
 ],
 "metadata": {
  "kernelspec": {
   "display_name": "R",
   "language": "R",
   "name": "ir"
  },
  "language_info": {
   "codemirror_mode": "r",
   "file_extension": ".r",
   "mimetype": "text/x-r-source",
   "name": "R",
   "pygments_lexer": "r",
   "version": "4.3.0"
  }
 },
 "nbformat": 4,
 "nbformat_minor": 5
}
